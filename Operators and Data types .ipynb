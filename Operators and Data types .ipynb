{
 "cells": [
  {
   "cell_type": "code",
   "execution_count": null,
   "id": "d9dcff54",
   "metadata": {},
   "outputs": [],
   "source": [
    "#LOGICAL OPERATOR [OR]\n"
   ]
  },
  {
   "cell_type": "code",
   "execution_count": 1,
   "id": "eb9e5bb8",
   "metadata": {},
   "outputs": [
    {
     "name": "stdout",
     "output_type": "stream",
     "text": [
      "3\n",
      "2\n",
      "3\n",
      "orange\n"
     ]
    }
   ],
   "source": [
    "a=3\n",
    "b=2\n",
    "c=0\n",
    "\n",
    "print(a or b)\n",
    "print(b or c)\n",
    "print(c or a)\n",
    "print('orange' or 'apple')"
   ]
  },
  {
   "cell_type": "code",
   "execution_count": null,
   "id": "ed4c7ff3",
   "metadata": {},
   "outputs": [],
   "source": [
    "#Identity Operator - It will check whether the value is equal to the right value or not "
   ]
  },
  {
   "cell_type": "code",
   "execution_count": 2,
   "id": "23149ba9",
   "metadata": {},
   "outputs": [
    {
     "name": "stderr",
     "output_type": "stream",
     "text": [
      "<>:1: SyntaxWarning: \"is\" with a literal. Did you mean \"==\"?\n",
      "<>:1: SyntaxWarning: \"is\" with a literal. Did you mean \"==\"?\n",
      "<>:1: SyntaxWarning: \"is\" with a literal. Did you mean \"==\"?\n",
      "<>:1: SyntaxWarning: \"is\" with a literal. Did you mean \"==\"?\n",
      "<>:1: SyntaxWarning: \"is\" with a literal. Did you mean \"==\"?\n",
      "<>:1: SyntaxWarning: \"is\" with a literal. Did you mean \"==\"?\n",
      "C:\\Users\\INDHU\\AppData\\Local\\Temp\\ipykernel_14832\\4245356565.py:1: SyntaxWarning: \"is\" with a literal. Did you mean \"==\"?\n",
      "  \"y\" is \"python\", 1 is 1 , 2 is 1\n",
      "C:\\Users\\INDHU\\AppData\\Local\\Temp\\ipykernel_14832\\4245356565.py:1: SyntaxWarning: \"is\" with a literal. Did you mean \"==\"?\n",
      "  \"y\" is \"python\", 1 is 1 , 2 is 1\n",
      "C:\\Users\\INDHU\\AppData\\Local\\Temp\\ipykernel_14832\\4245356565.py:1: SyntaxWarning: \"is\" with a literal. Did you mean \"==\"?\n",
      "  \"y\" is \"python\", 1 is 1 , 2 is 1\n"
     ]
    },
    {
     "data": {
      "text/plain": [
       "(False, True, False)"
      ]
     },
     "execution_count": 2,
     "metadata": {},
     "output_type": "execute_result"
    }
   ],
   "source": [
    "\"y\" is \"python\", 1 is 1 , 2 is 1"
   ]
  },
  {
   "cell_type": "code",
   "execution_count": 3,
   "id": "7accbab4",
   "metadata": {},
   "outputs": [
    {
     "name": "stderr",
     "output_type": "stream",
     "text": [
      "<>:1: SyntaxWarning: \"is\" with a literal. Did you mean \"==\"?\n",
      "<>:1: SyntaxWarning: \"is\" with a literal. Did you mean \"==\"?\n",
      "<>:1: SyntaxWarning: \"is\" with a literal. Did you mean \"==\"?\n",
      "<>:1: SyntaxWarning: \"is\" with a literal. Did you mean \"==\"?\n",
      "C:\\Users\\INDHU\\AppData\\Local\\Temp\\ipykernel_14832\\3368720792.py:1: SyntaxWarning: \"is\" with a literal. Did you mean \"==\"?\n",
      "  \"jupyter\" is \"Jupyter\" , 1 is 0\n",
      "C:\\Users\\INDHU\\AppData\\Local\\Temp\\ipykernel_14832\\3368720792.py:1: SyntaxWarning: \"is\" with a literal. Did you mean \"==\"?\n",
      "  \"jupyter\" is \"Jupyter\" , 1 is 0\n"
     ]
    },
    {
     "data": {
      "text/plain": [
       "(False, False)"
      ]
     },
     "execution_count": 3,
     "metadata": {},
     "output_type": "execute_result"
    }
   ],
   "source": [
    "\"jupyter\" is \"Jupyter\" , 1 is 0"
   ]
  },
  {
   "cell_type": "code",
   "execution_count": 4,
   "id": "22085ab2",
   "metadata": {},
   "outputs": [
    {
     "name": "stderr",
     "output_type": "stream",
     "text": [
      "<>:1: SyntaxWarning: \"is not\" with a literal. Did you mean \"!=\"?\n",
      "<>:1: SyntaxWarning: \"is not\" with a literal. Did you mean \"!=\"?\n",
      "<>:1: SyntaxWarning: \"is not\" with a literal. Did you mean \"!=\"?\n",
      "<>:1: SyntaxWarning: \"is not\" with a literal. Did you mean \"!=\"?\n",
      "C:\\Users\\INDHU\\AppData\\Local\\Temp\\ipykernel_14832\\3390152757.py:1: SyntaxWarning: \"is not\" with a literal. Did you mean \"!=\"?\n",
      "  1 is not 1 , \"Identity\" is not \"operator\"\n",
      "C:\\Users\\INDHU\\AppData\\Local\\Temp\\ipykernel_14832\\3390152757.py:1: SyntaxWarning: \"is not\" with a literal. Did you mean \"!=\"?\n",
      "  1 is not 1 , \"Identity\" is not \"operator\"\n"
     ]
    },
    {
     "data": {
      "text/plain": [
       "(False, True)"
      ]
     },
     "execution_count": 4,
     "metadata": {},
     "output_type": "execute_result"
    }
   ],
   "source": [
    "1 is not 1 , \"Identity\" is not \"operator\""
   ]
  },
  {
   "cell_type": "code",
   "execution_count": null,
   "id": "212d280a",
   "metadata": {},
   "outputs": [],
   "source": [
    "#Complex Number "
   ]
  },
  {
   "cell_type": "code",
   "execution_count": 5,
   "id": "670c0a14",
   "metadata": {},
   "outputs": [
    {
     "name": "stdout",
     "output_type": "stream",
     "text": [
      "(2+3j)\n"
     ]
    },
    {
     "data": {
      "text/plain": [
       "complex"
      ]
     },
     "execution_count": 5,
     "metadata": {},
     "output_type": "execute_result"
    }
   ],
   "source": [
    "print(2+3j)\n",
    "type(2+3j)"
   ]
  },
  {
   "cell_type": "code",
   "execution_count": null,
   "id": "6245f59a",
   "metadata": {},
   "outputs": [],
   "source": [
    "#Boolean Type "
   ]
  },
  {
   "cell_type": "code",
   "execution_count": 6,
   "id": "3f667053",
   "metadata": {},
   "outputs": [
    {
     "data": {
      "text/plain": [
       "(bool, bool)"
      ]
     },
     "execution_count": 6,
     "metadata": {},
     "output_type": "execute_result"
    }
   ],
   "source": [
    "type(True),type(False)"
   ]
  },
  {
   "cell_type": "code",
   "execution_count": null,
   "id": "e6fb9e01",
   "metadata": {},
   "outputs": [],
   "source": [
    "#Membership Operator - It will check whether left value is a member of right value or not "
   ]
  },
  {
   "cell_type": "code",
   "execution_count": 7,
   "id": "73729629",
   "metadata": {},
   "outputs": [
    {
     "data": {
      "text/plain": [
       "(True, False)"
      ]
     },
     "execution_count": 7,
     "metadata": {},
     "output_type": "execute_result"
    }
   ],
   "source": [
    "\"y\" in \"jupyter\" , \"1\" in \"jupyter\""
   ]
  },
  {
   "cell_type": "code",
   "execution_count": 8,
   "id": "5d0f5d66",
   "metadata": {},
   "outputs": [
    {
     "data": {
      "text/plain": [
       "(False, True)"
      ]
     },
     "execution_count": 8,
     "metadata": {},
     "output_type": "execute_result"
    }
   ],
   "source": [
    "\"J\" in \"jupyter\" , \"j\" in \"jupyter\""
   ]
  },
  {
   "cell_type": "code",
   "execution_count": null,
   "id": "b5747717",
   "metadata": {},
   "outputs": [],
   "source": [
    "#PYTHON DATA TYPES"
   ]
  },
  {
   "cell_type": "code",
   "execution_count": 11,
   "id": "a8b2b57b",
   "metadata": {},
   "outputs": [
    {
     "name": "stdout",
     "output_type": "stream",
     "text": [
      "1\n",
      "6\n",
      "36\n"
     ]
    },
    {
     "data": {
      "text/plain": [
       "int"
      ]
     },
     "execution_count": 11,
     "metadata": {},
     "output_type": "execute_result"
    }
   ],
   "source": [
    "#interger\n",
    "\n",
    "print(1)\n",
    "print(2+4)\n",
    "print(12 * 3)\n",
    "a=15\n",
    "type (a)"
   ]
  },
  {
   "cell_type": "code",
   "execution_count": 15,
   "id": "24cd2c8b",
   "metadata": {},
   "outputs": [
    {
     "name": "stdout",
     "output_type": "stream",
     "text": [
      "11.5\n",
      "15.67\n"
     ]
    },
    {
     "data": {
      "text/plain": [
       "float"
      ]
     },
     "execution_count": 15,
     "metadata": {},
     "output_type": "execute_result"
    }
   ],
   "source": [
    "#Float\n",
    "\n",
    "print(11.5)\n",
    "x=15.67\n",
    "print(x)\n",
    "type(x)"
   ]
  },
  {
   "cell_type": "code",
   "execution_count": 20,
   "id": "af83f094",
   "metadata": {},
   "outputs": [
    {
     "data": {
      "text/plain": [
       "(bool, bool)"
      ]
     },
     "execution_count": 20,
     "metadata": {},
     "output_type": "execute_result"
    }
   ],
   "source": [
    "#Boolean \n",
    "\n",
    "type (True), type (False)\n",
    "\n"
   ]
  },
  {
   "cell_type": "code",
   "execution_count": 21,
   "id": "c53f5691",
   "metadata": {},
   "outputs": [
    {
     "data": {
      "text/plain": [
       "2"
      ]
     },
     "execution_count": 21,
     "metadata": {},
     "output_type": "execute_result"
    }
   ],
   "source": [
    "True+True"
   ]
  },
  {
   "cell_type": "code",
   "execution_count": 22,
   "id": "c4c1e48f",
   "metadata": {},
   "outputs": [
    {
     "data": {
      "text/plain": [
       "4"
      ]
     },
     "execution_count": 22,
     "metadata": {},
     "output_type": "execute_result"
    }
   ],
   "source": [
    "True+False+False+True+True+True"
   ]
  },
  {
   "cell_type": "code",
   "execution_count": 30,
   "id": "48ef0077",
   "metadata": {},
   "outputs": [
    {
     "name": "stdout",
     "output_type": "stream",
     "text": [
      "['Indhu', 'Indhu1905', 2023, 2024]\n",
      "4\n"
     ]
    }
   ],
   "source": [
    "#Sequential Data type\n",
    "#List \n",
    "\n",
    "list1=[\"Indhu\", \"Indhu1905\", 2023, 2024]\n",
    "print(list1)\n",
    "print(len(list1))"
   ]
  },
  {
   "cell_type": "code",
   "execution_count": 32,
   "id": "ad161ae9",
   "metadata": {},
   "outputs": [
    {
     "name": "stdout",
     "output_type": "stream",
     "text": [
      "list[0]\n",
      "2024\n",
      "['Indhu', 'Indhu1905', 2023]\n"
     ]
    }
   ],
   "source": [
    "print(list[0])\n",
    "print(list1[3])\n",
    "print(list1[:3])"
   ]
  },
  {
   "cell_type": "code",
   "execution_count": 33,
   "id": "1a436abc",
   "metadata": {},
   "outputs": [
    {
     "name": "stdout",
     "output_type": "stream",
     "text": [
      "[2024, 2023, 'Indhu1905', 'Indhu']\n"
     ]
    }
   ],
   "source": [
    "#Reversing list \n",
    "\n",
    "print(list1[::-1])"
   ]
  },
  {
   "cell_type": "code",
   "execution_count": 35,
   "id": "e9fa6995",
   "metadata": {},
   "outputs": [
    {
     "name": "stdout",
     "output_type": "stream",
     "text": [
      "[123, 'XYZ', 'Zara', 'abc', 2023]\n",
      "[123, 'XYZ', 'Zara', 'abc']\n"
     ]
    }
   ],
   "source": [
    "#Functions in Data Type \n",
    "\n",
    "#Append: Add new element to the exisitng list \n",
    "\n",
    "alist = [123, 'XYZ', 'Zara', 'abc']\n",
    "alist.append(2023)\n",
    "print(alist)\n",
    "alist.remove(2023)\n",
    "print(alist)"
   ]
  },
  {
   "cell_type": "code",
   "execution_count": 36,
   "id": "f04a467f",
   "metadata": {},
   "outputs": [
    {
     "name": "stdout",
     "output_type": "stream",
     "text": [
      "abc\n",
      "[123, 'XYZ', 'Zara']\n"
     ]
    }
   ],
   "source": [
    "#Pop-Remove the element from the existing element \n",
    "\n",
    "print(alist.pop())\n",
    "print(alist)"
   ]
  },
  {
   "cell_type": "code",
   "execution_count": 37,
   "id": "a4b855c1",
   "metadata": {},
   "outputs": [
    {
     "name": "stdout",
     "output_type": "stream",
     "text": [
      "123\n",
      "['XYZ', 'Zara']\n"
     ]
    }
   ],
   "source": [
    "#Pop the element using Index Number\n",
    "\n",
    "print(alist.pop(0))\n",
    "print(alist)"
   ]
  },
  {
   "cell_type": "code",
   "execution_count": 38,
   "id": "ec442288",
   "metadata": {},
   "outputs": [
    {
     "name": "stdout",
     "output_type": "stream",
     "text": [
      "[123, 'xyz', 2023, 'tommy', 'abc', 123]\n"
     ]
    }
   ],
   "source": [
    "#Insert -Insert a value using Index Number \n",
    "\n",
    "alist = [123, 'xyz', 'tommy', 'abc', 123]\n",
    "alist.insert(2,2023)\n",
    "print(alist)"
   ]
  },
  {
   "cell_type": "code",
   "execution_count": 40,
   "id": "4c35e59d",
   "metadata": {},
   "outputs": [
    {
     "name": "stdout",
     "output_type": "stream",
     "text": [
      "[123, 'xyz', 'tommy', 'abc', 123, 123, 'xyz', 'tommy', 'abc', 123]\n",
      "[123, 'xyz', 'tommy', 'abc', 123, 2009, 'jupyter']\n",
      "[2009, 'jupyter', 123, 'xyz', 'tommy', 'abc', 123]\n"
     ]
    }
   ],
   "source": [
    "#Extend - Extend the two list one after another \n",
    "\n",
    "alist = [123, 'xyz', 'tommy', 'abc',123]\n",
    "blist = [2009, 'jupyter']\n",
    "\n",
    "print(alist*2)\n",
    "print(alist+blist)\n",
    "print(blist+alist)"
   ]
  },
  {
   "cell_type": "code",
   "execution_count": 41,
   "id": "b85c7c83",
   "metadata": {},
   "outputs": [
    {
     "data": {
      "text/plain": [
       "[123, 'xyz', 'tommy', 'abc', 123, 2009, 'jupyter']"
      ]
     },
     "execution_count": 41,
     "metadata": {},
     "output_type": "execute_result"
    }
   ],
   "source": [
    "alist.extend(blist)\n",
    "alist"
   ]
  },
  {
   "cell_type": "code",
   "execution_count": 42,
   "id": "b34cb2b6",
   "metadata": {},
   "outputs": [
    {
     "data": {
      "text/plain": [
       "[123, 'xyz', 'tommy', 'abc', 123, 2009, 'jupyter', [2009, 'jupyter']]"
      ]
     },
     "execution_count": 42,
     "metadata": {},
     "output_type": "execute_result"
    }
   ],
   "source": [
    "alist.append(blist)\n",
    "alist"
   ]
  },
  {
   "cell_type": "code",
   "execution_count": 43,
   "id": "3714f18b",
   "metadata": {},
   "outputs": [
    {
     "name": "stdout",
     "output_type": "stream",
     "text": [
      "[123, 'xyz', 'tommy', 'abc', 123, 2009, 'jupyter', [2009, 'jupyter', 123, 'xyz', 'tommy', 'abc', 123, 2009, 'jupyter', [...]]]\n"
     ]
    },
    {
     "data": {
      "text/plain": [
       "[2009, 'jupyter', 123, 'xyz', 'tommy', 'abc', 123, 2009, 'jupyter', [...]]"
      ]
     },
     "execution_count": 43,
     "metadata": {},
     "output_type": "execute_result"
    }
   ],
   "source": [
    "blist.extend(alist)\n",
    "print(alist)\n",
    "blist"
   ]
  },
  {
   "cell_type": "code",
   "execution_count": 46,
   "id": "dab8cd6a",
   "metadata": {},
   "outputs": [
    {
     "name": "stdout",
     "output_type": "stream",
     "text": [
      "[123, 'xyz', 'tommy', 'abc', 342]\n",
      "*********************************\n",
      "[342, 'abc', 'tommy', 'xyz', 123]\n"
     ]
    }
   ],
   "source": [
    "#Reverse \n",
    "\n",
    "alist = [123, 'xyz', 'tommy', 'abc', 342]\n",
    "print(alist)\n",
    "alist.reverse()\n",
    "print(\"*********************************\")\n",
    "print(alist)"
   ]
  },
  {
   "cell_type": "code",
   "execution_count": 47,
   "id": "b3ad954a",
   "metadata": {},
   "outputs": [
    {
     "data": {
      "text/plain": [
       "[99, 45, 33, 8]"
      ]
     },
     "execution_count": 47,
     "metadata": {},
     "output_type": "execute_result"
    }
   ],
   "source": [
    "#Sort - Sort the given list from ascending or descending \n",
    "\n",
    "blist = [8,99,45,33]\n",
    "blist.sort(reverse=True)\n",
    "blist "
   ]
  },
  {
   "cell_type": "code",
   "execution_count": 49,
   "id": "c16eda2d",
   "metadata": {},
   "outputs": [
    {
     "data": {
      "text/plain": [
       "[8, 33, 45, 99]"
      ]
     },
     "execution_count": 49,
     "metadata": {},
     "output_type": "execute_result"
    }
   ],
   "source": [
    "blist = [8,99,45,33]\n",
    "sorted_list = sorted(blist)\n",
    "sorted_list"
   ]
  },
  {
   "cell_type": "code",
   "execution_count": 51,
   "id": "81c1a29c",
   "metadata": {},
   "outputs": [
    {
     "name": "stdout",
     "output_type": "stream",
     "text": [
      "2\n"
     ]
    }
   ],
   "source": [
    "#Count \n",
    "\n",
    "alist = [123,'XYZ', 'Zara', 'abc', 123, \"Zara\"]\n",
    "print(alist.count(\"Zara\"))"
   ]
  },
  {
   "cell_type": "code",
   "execution_count": 52,
   "id": "0a8f7942",
   "metadata": {},
   "outputs": [
    {
     "name": "stdout",
     "output_type": "stream",
     "text": [
      "2\n"
     ]
    }
   ],
   "source": [
    "#Finding Value \n",
    "\n",
    "print(alist.index(\"Zara\"))"
   ]
  },
  {
   "cell_type": "code",
   "execution_count": 53,
   "id": "7708c7b4",
   "metadata": {},
   "outputs": [
    {
     "name": "stdout",
     "output_type": "stream",
     "text": [
      "[123, 'XYZ', 'Zara', 'abc', 123, 'Zara', 8, 99, 45, 33]\n"
     ]
    },
    {
     "data": {
      "text/plain": [
       "list"
      ]
     },
     "execution_count": 53,
     "metadata": {},
     "output_type": "execute_result"
    }
   ],
   "source": [
    "#Concatenate the two list\n",
    "\n",
    "new_list = alist+blist\n",
    "print(new_list)\n",
    "type(new_list)"
   ]
  },
  {
   "cell_type": "code",
   "execution_count": null,
   "id": "9ddf60d7",
   "metadata": {},
   "outputs": [],
   "source": [
    "help(list) #To get detailed infor about list "
   ]
  },
  {
   "cell_type": "code",
   "execution_count": 56,
   "id": "a0991b56",
   "metadata": {},
   "outputs": [
    {
     "name": "stdout",
     "output_type": "stream",
     "text": [
      "[0, 1, 3, 6, 23, 34, 43, 56, 78, 98]\n",
      "10\n",
      "98\n",
      "0\n"
     ]
    }
   ],
   "source": [
    "#Sorting \n",
    "\n",
    "number_list = [1,3,6,78,98,34,56,0,23,43]\n",
    "number_list.sort()\n",
    "print(number_list)\n",
    "print(len(number_list))\n",
    "print(max(number_list))\n",
    "print(min(number_list))"
   ]
  },
  {
   "cell_type": "code",
   "execution_count": null,
   "id": "9013fbbd",
   "metadata": {},
   "outputs": [],
   "source": []
  }
 ],
 "metadata": {
  "kernelspec": {
   "display_name": "Python 3 (ipykernel)",
   "language": "python",
   "name": "python3"
  },
  "language_info": {
   "codemirror_mode": {
    "name": "ipython",
    "version": 3
   },
   "file_extension": ".py",
   "mimetype": "text/x-python",
   "name": "python",
   "nbconvert_exporter": "python",
   "pygments_lexer": "ipython3",
   "version": "3.9.12"
  }
 },
 "nbformat": 4,
 "nbformat_minor": 5
}

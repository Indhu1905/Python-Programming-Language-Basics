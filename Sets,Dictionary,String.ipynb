{
 "cells": [
  {
   "cell_type": "code",
   "execution_count": 1,
   "id": "45920b2d",
   "metadata": {},
   "outputs": [],
   "source": [
    "#Sets "
   ]
  },
  {
   "cell_type": "code",
   "execution_count": 6,
   "id": "cee03d95",
   "metadata": {},
   "outputs": [
    {
     "name": "stdout",
     "output_type": "stream",
     "text": [
      "Elements in set3 and not in set4 : set5 {1, 2}\n"
     ]
    }
   ],
   "source": [
    "set3 = {1,2,3,4,5,6,7,8}\n",
    "set4 = {3,4,5,6,7,8,9}\n",
    "set5 = set3-set4\n",
    "print(\"Elements in set3 and not in set4 : set5\",set5)"
   ]
  },
  {
   "cell_type": "code",
   "execution_count": 7,
   "id": "2cc289dd",
   "metadata": {},
   "outputs": [
    {
     "name": "stdout",
     "output_type": "stream",
     "text": [
      "After applying clear on sets set5: set()\n"
     ]
    }
   ],
   "source": [
    "set5.clear()\n",
    "print (\"After applying clear on sets set5:\",set5)"
   ]
  },
  {
   "cell_type": "code",
   "execution_count": 9,
   "id": "e0f92f3d",
   "metadata": {},
   "outputs": [
    {
     "name": "stdout",
     "output_type": "stream",
     "text": [
      "set4 and set5 have nothing in common \n",
      "\n"
     ]
    }
   ],
   "source": [
    "if set4.isdisjoint(set5):\n",
    "    print(\"set4 and set5 have nothing in common \\n\")"
   ]
  },
  {
   "cell_type": "code",
   "execution_count": 1,
   "id": "84111537",
   "metadata": {},
   "outputs": [
    {
     "name": "stdout",
     "output_type": "stream",
     "text": [
      "{'Name': ('Nikhil', 'sharat'), 'Age': 25, 'bike': 'Beneli'}\n",
      "('Nikhil', 'sharat')\n",
      "25\n"
     ]
    }
   ],
   "source": [
    "#Dictionary \n",
    "\n",
    "#Accessing values in Dictionary \n",
    "\n",
    "dict = {'Name' : ('Nikhil','sharat') , 'Age' : 25, 'bike' : 'Beneli' }\n",
    "\n",
    "print (dict)\n",
    "print (dict['Name'])\n",
    "print (dict ['Age'])\n"
   ]
  },
  {
   "cell_type": "code",
   "execution_count": 2,
   "id": "077efbeb",
   "metadata": {},
   "outputs": [
    {
     "data": {
      "text/plain": [
       "{'Name': 'Nikhil',\n",
       " 'Age': 27,\n",
       " 'bike': 'Beneli',\n",
       " 'School': 'DPS School',\n",
       " 'Sal': [5000, 10000, 2356]}"
      ]
     },
     "execution_count": 2,
     "metadata": {},
     "output_type": "execute_result"
    }
   ],
   "source": [
    "#Updating Dictionary\n",
    "\n",
    "dict = {'Name':'Nikhil','Age' : 25, 'bike' : 'Beneli'}\n",
    "dict['Age'] = 27\n",
    "dict['School'] = 'DPS School'\n",
    "dict['Sal'] = [5000,10000,2356]\n",
    "dict"
   ]
  },
  {
   "cell_type": "code",
   "execution_count": 3,
   "id": "8f753ff7",
   "metadata": {},
   "outputs": [
    {
     "data": {
      "text/plain": [
       "{}"
      ]
     },
     "execution_count": 3,
     "metadata": {},
     "output_type": "execute_result"
    }
   ],
   "source": [
    "#Remove\n",
    "\n",
    "dict.clear()\n",
    "dict "
   ]
  },
  {
   "cell_type": "code",
   "execution_count": 7,
   "id": "66707457",
   "metadata": {},
   "outputs": [
    {
     "name": "stdout",
     "output_type": "stream",
     "text": [
      "dict_items([('Name', 'Nikhil'), ('Age', 34), ('bike', 'Beneli')])\n",
      "dict_keys(['Name', 'Age', 'bike'])\n",
      "dict_values(['Nikhil', 34, 'Beneli'])\n"
     ]
    }
   ],
   "source": [
    "dict = {'Name' : 'Nikhil' ,'Age' : 34, 'bike' : 'Beneli'}\n",
    "print(dict.items())\n",
    "print(dict.keys())\n",
    "print(dict.values())\n",
    "\n"
   ]
  },
  {
   "cell_type": "code",
   "execution_count": 8,
   "id": "592a1855",
   "metadata": {},
   "outputs": [
    {
     "data": {
      "text/plain": [
       "dict_items"
      ]
     },
     "execution_count": 8,
     "metadata": {},
     "output_type": "execute_result"
    }
   ],
   "source": [
    "xy = dict.items()\n",
    "type(xy)\n"
   ]
  },
  {
   "cell_type": "code",
   "execution_count": 9,
   "id": "1e6b98fd",
   "metadata": {},
   "outputs": [
    {
     "data": {
      "text/plain": [
       "dict"
      ]
     },
     "execution_count": 9,
     "metadata": {},
     "output_type": "execute_result"
    }
   ],
   "source": [
    "type(dict)"
   ]
  },
  {
   "cell_type": "code",
   "execution_count": 11,
   "id": "7b45c425",
   "metadata": {},
   "outputs": [
    {
     "name": "stdout",
     "output_type": "stream",
     "text": [
      "P\n",
      "h\n",
      "ytho\n",
      "o\n",
      "ho\n",
      "PythonPythonPython\n",
      "Python Test\n"
     ]
    }
   ],
   "source": [
    "#Non - Numeric String \n",
    "\n",
    "#Accessing Values \n",
    "\n",
    "Name = 'Python'\n",
    "print(Name[0])\n",
    "print(Name[3])\n",
    "print(Name[1:5])\n",
    "print(Name[-2])\n",
    "print(Name[-3:-1])\n",
    "print(Name*3)\n",
    "print(Name +\"\",\"Test\")\n",
    "\n"
   ]
  },
  {
   "cell_type": "code",
   "execution_count": 13,
   "id": "cb8aaa5e",
   "metadata": {},
   "outputs": [
    {
     "name": "stdout",
     "output_type": "stream",
     "text": [
      "Hi\n",
      "2\n"
     ]
    }
   ],
   "source": [
    "a = 'Hi'\n",
    "print(a)\n",
    "print(len(a))"
   ]
  },
  {
   "cell_type": "code",
   "execution_count": 16,
   "id": "3a28e6e0",
   "metadata": {},
   "outputs": [
    {
     "name": "stdout",
     "output_type": "stream",
     "text": [
      "The Best Language\n",
      "TeBs agae\n",
      "T sLgg\n",
      "e na\n"
     ]
    }
   ],
   "source": [
    "#String Slicing (Indexing)\n",
    "\n",
    "Title = \"The Best Language\" #[start : stop : step]\n",
    "print(Title[::1])\n",
    "print(Title[::2])\n",
    "print(Title[::3])\n",
    "print(Title[5::3])\n",
    "\n",
    "\n"
   ]
  },
  {
   "cell_type": "code",
   "execution_count": 17,
   "id": "5b4ce30f",
   "metadata": {},
   "outputs": [
    {
     "name": "stdout",
     "output_type": "stream",
     "text": [
      "nohtyP\n"
     ]
    }
   ],
   "source": [
    "#Reverse \n",
    "\n",
    "example = 'Python'\n",
    "print(example[::-1])"
   ]
  },
  {
   "cell_type": "code",
   "execution_count": 19,
   "id": "b3ee23d7",
   "metadata": {},
   "outputs": [
    {
     "name": "stdout",
     "output_type": "stream",
     "text": [
      "Updated String : Hello World!Python\n",
      "updated String : Hello Python\n"
     ]
    }
   ],
   "source": [
    "var = 'Hello World!'\n",
    "print(\"Updated String :\",var+ 'Python')\n",
    "print(\"updated String :\",var[:6]+'Python')\n"
   ]
  },
  {
   "cell_type": "code",
   "execution_count": 20,
   "id": "c89dbe44",
   "metadata": {},
   "outputs": [
    {
     "name": "stdout",
     "output_type": "stream",
     "text": [
      "['T', 'h', 'i', 's', ' ', 'i', 's', ' ', 'P', 'y', 't', 'h', 'o', 'n']\n"
     ]
    }
   ],
   "source": [
    "string = 'This is Python'\n",
    "strlist = list(string)\n",
    "print(strlist)"
   ]
  },
  {
   "cell_type": "code",
   "execution_count": 23,
   "id": "3e4f5c6c",
   "metadata": {},
   "outputs": [
    {
     "data": {
      "text/plain": [
       "'6.456000 python prasad is $1'"
      ]
     },
     "execution_count": 23,
     "metadata": {},
     "output_type": "execute_result"
    }
   ],
   "source": [
    "format = '%2f %s is $%d'\n",
    "format%(6.4560,'python prasad',1)"
   ]
  },
  {
   "cell_type": "code",
   "execution_count": 24,
   "id": "078bafc4",
   "metadata": {},
   "outputs": [
    {
     "name": "stdout",
     "output_type": "stream",
     "text": [
      " my name is \"prasad\" and my age is \"25\" \n"
     ]
    }
   ],
   "source": [
    "statement = \"\"\" my name is \"prasad\" and my age is \"25\" \"\"\"\n",
    "print(statement)"
   ]
  },
  {
   "cell_type": "code",
   "execution_count": 25,
   "id": "c553683a",
   "metadata": {},
   "outputs": [
    {
     "data": {
      "text/plain": [
       "str"
      ]
     },
     "execution_count": 25,
     "metadata": {},
     "output_type": "execute_result"
    }
   ],
   "source": [
    "type (statement)"
   ]
  },
  {
   "cell_type": "code",
   "execution_count": 28,
   "id": "a754687d",
   "metadata": {},
   "outputs": [
    {
     "name": "stdout",
     "output_type": "stream",
     "text": [
      "<class 'str'>\n",
      "Python\n",
      "PYTHON\n",
      "python\n",
      "PyThON\n"
     ]
    }
   ],
   "source": [
    "Name = 'pYtHon'\n",
    "print(type(Name))\n",
    "print(Name.capitalize())\n",
    "print(Name.upper())\n",
    "print(Name.lower())\n",
    "print(Name.swapcase())"
   ]
  },
  {
   "cell_type": "code",
   "execution_count": null,
   "id": "c63bfa82",
   "metadata": {},
   "outputs": [],
   "source": []
  }
 ],
 "metadata": {
  "kernelspec": {
   "display_name": "Python 3 (ipykernel)",
   "language": "python",
   "name": "python3"
  },
  "language_info": {
   "codemirror_mode": {
    "name": "ipython",
    "version": 3
   },
   "file_extension": ".py",
   "mimetype": "text/x-python",
   "name": "python",
   "nbconvert_exporter": "python",
   "pygments_lexer": "ipython3",
   "version": "3.9.12"
  }
 },
 "nbformat": 4,
 "nbformat_minor": 5
}

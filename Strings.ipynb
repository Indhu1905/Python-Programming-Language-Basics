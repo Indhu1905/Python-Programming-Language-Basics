{
 "cells": [
  {
   "cell_type": "code",
   "execution_count": 2,
   "id": "cf013dfa",
   "metadata": {},
   "outputs": [
    {
     "data": {
      "text/plain": [
       "'                      PyThon                      '"
      ]
     },
     "execution_count": 2,
     "metadata": {},
     "output_type": "execute_result"
    }
   ],
   "source": [
    "Name = \"PyThon\"\n",
    "\n",
    "Name.center(50)"
   ]
  },
  {
   "cell_type": "code",
   "execution_count": 3,
   "id": "de64e0b1",
   "metadata": {},
   "outputs": [
    {
     "data": {
      "text/plain": [
       "'Python'"
      ]
     },
     "execution_count": 3,
     "metadata": {},
     "output_type": "execute_result"
    }
   ],
   "source": [
    "Name = '          Python        '\n",
    "Name.strip()"
   ]
  },
  {
   "cell_type": "code",
   "execution_count": 4,
   "id": "d47c300d",
   "metadata": {},
   "outputs": [
    {
     "data": {
      "text/plain": [
       "'Python        '"
      ]
     },
     "execution_count": 4,
     "metadata": {},
     "output_type": "execute_result"
    }
   ],
   "source": [
    "Name.lstrip()"
   ]
  },
  {
   "cell_type": "code",
   "execution_count": 5,
   "id": "670e5225",
   "metadata": {},
   "outputs": [
    {
     "data": {
      "text/plain": [
       "'          Python'"
      ]
     },
     "execution_count": 5,
     "metadata": {},
     "output_type": "execute_result"
    }
   ],
   "source": [
    "Name.rstrip()"
   ]
  },
  {
   "cell_type": "code",
   "execution_count": 12,
   "id": "30bcbede",
   "metadata": {},
   "outputs": [
    {
     "name": "stdout",
     "output_type": "stream",
     "text": [
      "The Count is : 3\n"
     ]
    }
   ],
   "source": [
    "string = \"Prasad is Python Programmer\"\n",
    "substring = 'P'\n",
    "a = string.count(substring)\n",
    "a\n",
    "print (\"The Count is :\" , a)\n",
    "\n",
    "\n"
   ]
  },
  {
   "cell_type": "code",
   "execution_count": 10,
   "id": "a8d79684",
   "metadata": {},
   "outputs": [
    {
     "name": "stdout",
     "output_type": "stream",
     "text": [
      "The Count is : 2\n"
     ]
    }
   ],
   "source": [
    "a = string.count(substring,8,25)\n",
    "a\n",
    "print(\"The Count is :\",a)\n",
    "\n"
   ]
  },
  {
   "cell_type": "code",
   "execution_count": 14,
   "id": "b8051179",
   "metadata": {},
   "outputs": [
    {
     "name": "stdout",
     "output_type": "stream",
     "text": [
      "<class 'str'>\n",
      "True\n"
     ]
    }
   ],
   "source": [
    "Num = 'thishi34'\n",
    "print(type(Num))\n",
    "print(Num.isalnum())"
   ]
  },
  {
   "cell_type": "code",
   "execution_count": 15,
   "id": "9cdfb1fd",
   "metadata": {},
   "outputs": [
    {
     "name": "stdout",
     "output_type": "stream",
     "text": [
      "False\n"
     ]
    }
   ],
   "source": [
    "Num = \"This is string and this is an example\"\n",
    "print(Num.isalnum())"
   ]
  },
  {
   "cell_type": "code",
   "execution_count": 16,
   "id": "54c93500",
   "metadata": {},
   "outputs": [
    {
     "name": "stdout",
     "output_type": "stream",
     "text": [
      "True\n"
     ]
    }
   ],
   "source": [
    "Num = \"Thisis\"\n",
    "print(Num.isalpha())"
   ]
  },
  {
   "cell_type": "code",
   "execution_count": 17,
   "id": "170faf79",
   "metadata": {},
   "outputs": [
    {
     "name": "stdout",
     "output_type": "stream",
     "text": [
      "False\n"
     ]
    }
   ],
   "source": [
    "Num = \"This is an numeric number 0909012!!!\"\n",
    "print(Num.isalpha())"
   ]
  },
  {
   "cell_type": "code",
   "execution_count": 18,
   "id": "0d0ac963",
   "metadata": {},
   "outputs": [
    {
     "name": "stdout",
     "output_type": "stream",
     "text": [
      "<class 'str'>\n",
      "True\n"
     ]
    }
   ],
   "source": [
    "b = \"123456789\"\n",
    "print(type(b))\n",
    "print(b.isdigit())"
   ]
  },
  {
   "cell_type": "code",
   "execution_count": 20,
   "id": "055396e3",
   "metadata": {},
   "outputs": [
    {
     "name": "stdout",
     "output_type": "stream",
     "text": [
      "False\n"
     ]
    }
   ],
   "source": [
    "c = 'This is Jupyter Notebook'\n",
    "print(c.isdigit())"
   ]
  },
  {
   "cell_type": "code",
   "execution_count": 27,
   "id": "8b819ddc",
   "metadata": {},
   "outputs": [
    {
     "name": "stdout",
     "output_type": "stream",
     "text": [
      " It was string example!!! was really a string was was was \n",
      " It was string example!!! was really a string was is is \n",
      " :I:t: :i:s: :s:t:r:i:n:g: :e:x:a:m:p:l:e:!:!:!: :i:s: :r:e:a:l:l:y: :a: :s:t:r:i:n:g: :i:s: :i:s: :i:s: \n"
     ]
    }
   ],
   "source": [
    "Reply = \" It is string example!!! is really a string is is is \"\n",
    "print(Reply.replace(\"is\",\"was\"))\n",
    "print(Reply.replace(\"is\",\"was\",3))\n",
    "print(\":\".join(Reply))"
   ]
  },
  {
   "cell_type": "code",
   "execution_count": 35,
   "id": "3280494b",
   "metadata": {},
   "outputs": [
    {
     "name": "stdout",
     "output_type": "stream",
     "text": [
      "['Line1-abcdef', 'line2-abc', 'line3-abcd']\n",
      "[' Line1-abcdef \\nline2-abc \\nline3-abcd ']\n"
     ]
    }
   ],
   "source": [
    "split1 = \" Line1-abcdef \\nline2-abc \\nline3-abcd \"\n",
    "print(split1.split())\n",
    "print(split1.split('  ',1))"
   ]
  },
  {
   "cell_type": "code",
   "execution_count": 40,
   "id": "609134c9",
   "metadata": {},
   "outputs": [
    {
     "name": "stdout",
     "output_type": "stream",
     "text": [
      "20\n",
      "#####################\n",
      "1.90568326565 <class 'float'>\n"
     ]
    }
   ],
   "source": [
    "x = 'x-DSPAM - Confidence:   1.90568326565'\n",
    "pos = x.find(':')\n",
    "print(pos)\n",
    "print(\"#####################\")\n",
    "num = float(x[pos+1: ])\n",
    "print(num,type(num))"
   ]
  },
  {
   "cell_type": "code",
   "execution_count": 43,
   "id": "f22081fa",
   "metadata": {},
   "outputs": [
    {
     "name": "stdout",
     "output_type": "stream",
     "text": [
      "2 3\n",
      "3 2\n"
     ]
    }
   ],
   "source": [
    "#Tuple Assignment \n",
    "\n",
    "x=2 ; y=3\n",
    "print (x,y)\n",
    "temp=x\n",
    "x=y\n",
    "y=temp\n",
    "print(x,y)"
   ]
  },
  {
   "cell_type": "code",
   "execution_count": 44,
   "id": "a4637fb2",
   "metadata": {},
   "outputs": [
    {
     "name": "stdout",
     "output_type": "stream",
     "text": [
      "2 3\n",
      "3 2\n"
     ]
    }
   ],
   "source": [
    "x=2 ; y=3\n",
    "print(x,y)\n",
    "(x,y) = (y,x)\n",
    "print(x,y)"
   ]
  },
  {
   "cell_type": "code",
   "execution_count": 46,
   "id": "ec6d47e9",
   "metadata": {},
   "outputs": [
    {
     "name": "stdout",
     "output_type": "stream",
     "text": [
      "Enter the list: 12345\n",
      "['1', '2', '3', '4', '5']\n"
     ]
    }
   ],
   "source": [
    "#Circulate the values of n variables \n",
    "\n",
    "a = list(input(\"Enter the list: \"))\n",
    "print(a)"
   ]
  },
  {
   "cell_type": "code",
   "execution_count": 47,
   "id": "397cf209",
   "metadata": {},
   "outputs": [
    {
     "name": "stdout",
     "output_type": "stream",
     "text": [
      "['1', '2', '3', '4', '5']\n"
     ]
    },
    {
     "data": {
      "text/plain": [
       "5"
      ]
     },
     "execution_count": 47,
     "metadata": {},
     "output_type": "execute_result"
    }
   ],
   "source": [
    "print(a)\n",
    "len(a)"
   ]
  },
  {
   "cell_type": "code",
   "execution_count": 48,
   "id": "6667044e",
   "metadata": {},
   "outputs": [
    {
     "name": "stdout",
     "output_type": "stream",
     "text": [
      "['2', '3', '4', '5', '1']\n",
      "['3', '4', '5', '1', '2']\n",
      "['4', '5', '1', '2', '3']\n",
      "['5', '1', '2', '3', '4']\n"
     ]
    }
   ],
   "source": [
    "for i in range(1,len(a),1):\n",
    "    print(a[i:] + a[:i])"
   ]
  },
  {
   "cell_type": "code",
   "execution_count": null,
   "id": "d9d1532a",
   "metadata": {},
   "outputs": [],
   "source": [
    "\n",
    "\n"
   ]
  }
 ],
 "metadata": {
  "kernelspec": {
   "display_name": "Python 3 (ipykernel)",
   "language": "python",
   "name": "python3"
  },
  "language_info": {
   "codemirror_mode": {
    "name": "ipython",
    "version": 3
   },
   "file_extension": ".py",
   "mimetype": "text/x-python",
   "name": "python",
   "nbconvert_exporter": "python",
   "pygments_lexer": "ipython3",
   "version": "3.9.12"
  }
 },
 "nbformat": 4,
 "nbformat_minor": 5
}

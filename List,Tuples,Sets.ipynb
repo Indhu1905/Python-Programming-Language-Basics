{
 "cells": [
  {
   "cell_type": "code",
   "execution_count": 2,
   "id": "fe858466",
   "metadata": {},
   "outputs": [
    {
     "name": "stdout",
     "output_type": "stream",
     "text": [
      "['efg', 'lmn', 'abcd', 'hijk']\n"
     ]
    }
   ],
   "source": [
    "#List\n",
    "\n",
    "string = ['abcd', 'efg', 'hijk', 'lmn']\n",
    "print(sorted(string,key=len))"
   ]
  },
  {
   "cell_type": "code",
   "execution_count": 3,
   "id": "724cc527",
   "metadata": {},
   "outputs": [
    {
     "data": {
      "text/plain": [
       "'lmn'"
      ]
     },
     "execution_count": 3,
     "metadata": {},
     "output_type": "execute_result"
    }
   ],
   "source": [
    "string=['abcg', 'eff', 'hijd', 'lmn']\n",
    "\n",
    "def func1(l):\n",
    "    return l[-1]\n",
    "\n",
    "func1(string)"
   ]
  },
  {
   "cell_type": "code",
   "execution_count": 4,
   "id": "4853b44d",
   "metadata": {},
   "outputs": [
    {
     "name": "stdout",
     "output_type": "stream",
     "text": [
      "['abcg', 'eff', 'hijd', 'lmn']\n",
      "g\n",
      "['hijd', 'eff', 'abcg', 'lmn']\n"
     ]
    }
   ],
   "source": [
    "print(sorted(string))\n",
    "print(func1('abcg'))\n",
    "print (sorted(string,key=func1))"
   ]
  },
  {
   "cell_type": "code",
   "execution_count": 7,
   "id": "8d4f64db",
   "metadata": {},
   "outputs": [
    {
     "name": "stdout",
     "output_type": "stream",
     "text": [
      "('Street Triple', 'Detone', 'Indhu', 2023)\n",
      "(1, 2, 3, 4, 5)\n"
     ]
    }
   ],
   "source": [
    "#Tuples\n",
    "\n",
    "tup1 = ('Street Triple', 'Detone', 'Indhu', 2023)\n",
    "tup2 = (1,2,3,4,5)\n",
    "print(tup1)\n",
    "print(tup2)"
   ]
  },
  {
   "cell_type": "code",
   "execution_count": 9,
   "id": "04356b3d",
   "metadata": {},
   "outputs": [
    {
     "data": {
      "text/plain": [
       "1317092214080"
      ]
     },
     "execution_count": 9,
     "metadata": {},
     "output_type": "execute_result"
    }
   ],
   "source": [
    "id(tup1)"
   ]
  },
  {
   "cell_type": "code",
   "execution_count": 10,
   "id": "dcadaf36",
   "metadata": {},
   "outputs": [
    {
     "name": "stdout",
     "output_type": "stream",
     "text": [
      "()\n"
     ]
    },
    {
     "data": {
      "text/plain": [
       "1317009047616"
      ]
     },
     "execution_count": 10,
     "metadata": {},
     "output_type": "execute_result"
    }
   ],
   "source": [
    "#Create a empty tuple \n",
    "\n",
    "tup1 = ()\n",
    "print (tup1)\n",
    "id(tup1)"
   ]
  },
  {
   "cell_type": "code",
   "execution_count": 13,
   "id": "04e61b1b",
   "metadata": {},
   "outputs": [
    {
     "data": {
      "text/plain": [
       "(50,)"
      ]
     },
     "execution_count": 13,
     "metadata": {},
     "output_type": "execute_result"
    }
   ],
   "source": [
    "#Single Tuple \n",
    "\n",
    "tup1 = (50,)\n",
    "tup1\n"
   ]
  },
  {
   "cell_type": "code",
   "execution_count": 14,
   "id": "a030115f",
   "metadata": {},
   "outputs": [
    {
     "data": {
      "text/plain": [
       "tuple"
      ]
     },
     "execution_count": 14,
     "metadata": {},
     "output_type": "execute_result"
    }
   ],
   "source": [
    "type(tup1)"
   ]
  },
  {
   "cell_type": "code",
   "execution_count": 16,
   "id": "9f495494",
   "metadata": {},
   "outputs": [
    {
     "name": "stdout",
     "output_type": "stream",
     "text": [
      "Street Triple\n",
      "(2, 3, 4, 5)\n"
     ]
    }
   ],
   "source": [
    "#Accessing values in tuple \n",
    "\n",
    "tup1 = ('Street Triple', 'Jupyter', 'Indhu', 2023)\n",
    "print(tup1[0])\n",
    "tup2= (1,2,3,4,5,6)\n",
    "print(tup2[1:5])"
   ]
  },
  {
   "cell_type": "code",
   "execution_count": 18,
   "id": "69ba0efa",
   "metadata": {},
   "outputs": [
    {
     "name": "stdout",
     "output_type": "stream",
     "text": [
      "(12, 34.78, 'abc', 'xyz')\n"
     ]
    }
   ],
   "source": [
    "#Uploading Tuples\n",
    "\n",
    "tup1 = (12,34.78)\n",
    "tup2 = ('abc', 'xyz')\n",
    "tup1 = tup1 + tup2\n",
    "print (tup1)"
   ]
  },
  {
   "cell_type": "code",
   "execution_count": 19,
   "id": "32625f5d",
   "metadata": {},
   "outputs": [
    {
     "name": "stdout",
     "output_type": "stream",
     "text": [
      "('Street Triple', 'Jupyter', 'Indhu', 2023)\n"
     ]
    },
    {
     "ename": "TypeError",
     "evalue": "'tuple' object doesn't support item deletion",
     "output_type": "error",
     "traceback": [
      "\u001b[1;31m---------------------------------------------------------------------------\u001b[0m",
      "\u001b[1;31mTypeError\u001b[0m                                 Traceback (most recent call last)",
      "Input \u001b[1;32mIn [19]\u001b[0m, in \u001b[0;36m<cell line: 5>\u001b[1;34m()\u001b[0m\n\u001b[0;32m      3\u001b[0m tup \u001b[38;5;241m=\u001b[39m (\u001b[38;5;124m'\u001b[39m\u001b[38;5;124mStreet Triple\u001b[39m\u001b[38;5;124m'\u001b[39m, \u001b[38;5;124m'\u001b[39m\u001b[38;5;124mJupyter\u001b[39m\u001b[38;5;124m'\u001b[39m, \u001b[38;5;124m'\u001b[39m\u001b[38;5;124mIndhu\u001b[39m\u001b[38;5;124m'\u001b[39m, \u001b[38;5;241m2023\u001b[39m)\n\u001b[0;32m      4\u001b[0m \u001b[38;5;28mprint\u001b[39m (tup)\n\u001b[1;32m----> 5\u001b[0m \u001b[38;5;28;01mdel\u001b[39;00m(tup[\u001b[38;5;241m1\u001b[39m])\n\u001b[0;32m      6\u001b[0m \u001b[38;5;28mprint\u001b[39m(tup)\n",
      "\u001b[1;31mTypeError\u001b[0m: 'tuple' object doesn't support item deletion"
     ]
    }
   ],
   "source": [
    "#Delete Tuple Elements \n",
    "\n",
    "tup = ('Street Triple', 'Jupyter', 'Indhu', 2023)\n",
    "print (tup)\n",
    "del(tup[1]) #Error Occurs , 'tuple' object doesn't support item deletion\n",
    "print(tup)"
   ]
  },
  {
   "cell_type": "code",
   "execution_count": 20,
   "id": "ba67487b",
   "metadata": {},
   "outputs": [
    {
     "name": "stdout",
     "output_type": "stream",
     "text": [
      "Normal_Set {'b', 'c', 'a'}\n"
     ]
    }
   ],
   "source": [
    "#Sets\n",
    "\n",
    "#Normal Set \n",
    "\n",
    "normal_set = set([\"a\", \"b\", \"c\"])\n",
    "print (\"Normal_Set\",normal_set)"
   ]
  },
  {
   "cell_type": "code",
   "execution_count": 22,
   "id": "00407f6f",
   "metadata": {},
   "outputs": [
    {
     "name": "stdout",
     "output_type": "stream",
     "text": [
      "Normal_set {'b', 'd', 'c', 'a'}\n"
     ]
    }
   ],
   "source": [
    "#Adding New value \n",
    "\n",
    "normal_set.add(\"d\")\n",
    "print(\"Normal_set\", normal_set)"
   ]
  },
  {
   "cell_type": "code",
   "execution_count": 23,
   "id": "c55d0ac8",
   "metadata": {},
   "outputs": [
    {
     "name": "stdout",
     "output_type": "stream",
     "text": [
      "Frozen_set frozenset({'g', 'e', 'f'})\n"
     ]
    }
   ],
   "source": [
    "#Frozen set \n",
    "\n",
    "frozen_set = frozenset([\"e\",\"f\",\"g\"])\n",
    "print(\"Frozen_set\",frozen_set)"
   ]
  },
  {
   "cell_type": "code",
   "execution_count": 24,
   "id": "7f0543cc",
   "metadata": {},
   "outputs": [
    {
     "ename": "AttributeError",
     "evalue": "'frozenset' object has no attribute 'add'",
     "output_type": "error",
     "traceback": [
      "\u001b[1;31m---------------------------------------------------------------------------\u001b[0m",
      "\u001b[1;31mAttributeError\u001b[0m                            Traceback (most recent call last)",
      "Input \u001b[1;32mIn [24]\u001b[0m, in \u001b[0;36m<cell line: 1>\u001b[1;34m()\u001b[0m\n\u001b[1;32m----> 1\u001b[0m \u001b[43mfrozen_set\u001b[49m\u001b[38;5;241;43m.\u001b[39;49m\u001b[43madd\u001b[49m(\u001b[38;5;124m\"\u001b[39m\u001b[38;5;124mh\u001b[39m\u001b[38;5;124m\"\u001b[39m)\n",
      "\u001b[1;31mAttributeError\u001b[0m: 'frozenset' object has no attribute 'add'"
     ]
    }
   ],
   "source": [
    "frozen_set.add(\"h\") #frozenset' object has no attribute 'add'"
   ]
  },
  {
   "cell_type": "code",
   "execution_count": 25,
   "id": "991468ec",
   "metadata": {},
   "outputs": [
    {
     "name": "stdout",
     "output_type": "stream",
     "text": [
      "set() set()\n"
     ]
    }
   ],
   "source": [
    "#Set Operations \n",
    "\n",
    "\n",
    "set1 = set()\n",
    "set2 = set()\n",
    "\n",
    "print(set1,set2)"
   ]
  },
  {
   "cell_type": "code",
   "execution_count": 26,
   "id": "055c1799",
   "metadata": {},
   "outputs": [
    {
     "data": {
      "text/plain": [
       "{1, 2, 3, 4, 5, 6, 7, 8, 9}"
      ]
     },
     "execution_count": 26,
     "metadata": {},
     "output_type": "execute_result"
    }
   ],
   "source": [
    "for i in range (1,10):\n",
    "    set1.add(i)\n",
    "    \n",
    "set1"
   ]
  },
  {
   "cell_type": "code",
   "execution_count": 27,
   "id": "636b8cfb",
   "metadata": {},
   "outputs": [
    {
     "data": {
      "text/plain": [
       "{3, 4, 5, 6, 7, 8, 9}"
      ]
     },
     "execution_count": 27,
     "metadata": {},
     "output_type": "execute_result"
    }
   ],
   "source": [
    "for i in range (3,10):\n",
    "    set2.add(i)\n",
    "\n",
    "set2"
   ]
  },
  {
   "cell_type": "code",
   "execution_count": 29,
   "id": "432f77f0",
   "metadata": {},
   "outputs": [
    {
     "name": "stdout",
     "output_type": "stream",
     "text": [
      "Union of set1 and set2 =  {1, 2, 3, 4, 5, 6, 7, 8, 9}\n"
     ]
    }
   ],
   "source": [
    "# Unions of set1 and set2 \n",
    "# Union shows all the values in set1 and set2\n",
    "\n",
    "set3 = set1 | set2 #set1/union(set2)\n",
    "\n",
    "print(\"Union of set1 and set2 = \" , set3)"
   ]
  },
  {
   "cell_type": "code",
   "execution_count": 30,
   "id": "774d35e0",
   "metadata": {},
   "outputs": [
    {
     "name": "stdout",
     "output_type": "stream",
     "text": [
      "{3, 4, 5, 6, 7, 8, 9}\n"
     ]
    }
   ],
   "source": [
    "#Intersection - Common values in both the sets \n",
    "\n",
    "set4 = set1 & set2 \n",
    "print(set4)"
   ]
  },
  {
   "cell_type": "code",
   "execution_count": 31,
   "id": "c851689c",
   "metadata": {},
   "outputs": [
    {
     "data": {
      "text/plain": [
       "{3, 4, 5, 6, 7, 8, 9}"
      ]
     },
     "execution_count": 31,
     "metadata": {},
     "output_type": "execute_result"
    }
   ],
   "source": [
    "set5 = set1.intersection(set2)\n",
    "set5"
   ]
  },
  {
   "cell_type": "code",
   "execution_count": 33,
   "id": "d24cd5df",
   "metadata": {},
   "outputs": [
    {
     "name": "stdout",
     "output_type": "stream",
     "text": [
      "set3 is superset of set4\n"
     ]
    }
   ],
   "source": [
    "if set3 > set4: \n",
    "    print (\"set3 is superset of set4\")\n",
    "elif set3 < set4:\n",
    "        print (\"set3 is subset of set4\")\n",
    "else :\n",
    "        print(\"set3 is same as set4\")\n",
    "            \n",
    "            "
   ]
  },
  {
   "cell_type": "code",
   "execution_count": 34,
   "id": "e95928da",
   "metadata": {},
   "outputs": [
    {
     "name": "stdout",
     "output_type": "stream",
     "text": [
      "\n",
      "\n",
      "set4 is subset of set3\n",
      "\n",
      "\n"
     ]
    }
   ],
   "source": [
    "if set4 < set3:\n",
    "    print(\"\\n\")\n",
    "    print(\"set4 is subset of set3\")\n",
    "    print(\"\\n\")"
   ]
  },
  {
   "cell_type": "code",
   "execution_count": null,
   "id": "fcc3b970",
   "metadata": {},
   "outputs": [],
   "source": []
  }
 ],
 "metadata": {
  "kernelspec": {
   "display_name": "Python 3 (ipykernel)",
   "language": "python",
   "name": "python3"
  },
  "language_info": {
   "codemirror_mode": {
    "name": "ipython",
    "version": 3
   },
   "file_extension": ".py",
   "mimetype": "text/x-python",
   "name": "python",
   "nbconvert_exporter": "python",
   "pygments_lexer": "ipython3",
   "version": "3.9.12"
  }
 },
 "nbformat": 4,
 "nbformat_minor": 5
}
